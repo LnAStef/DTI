{
  "nbformat": 4,
  "nbformat_minor": 0,
  "metadata": {
    "colab": {
      "name": "OpenBioLink_Ampligraph_ComplEx.ipynb",
      "provenance": [],
      "collapsed_sections": []
    },
    "kernelspec": {
      "name": "python3",
      "display_name": "Python 3"
    },
    "language_info": {
      "name": "python"
    },
    "accelerator": "GPU"
  },
  "cells": [
    {
      "cell_type": "markdown",
      "metadata": {
        "id": "wSfj-AVVKZ51"
      },
      "source": [
        "# Installing libraries"
      ]
    },
    {
      "cell_type": "code",
      "metadata": {
        "colab": {
          "base_uri": "https://localhost:8080/"
        },
        "id": "lnbjnh9mhMJb",
        "outputId": "ef7073de-aeea-4f30-a525-b5d1cf32a8d8"
      },
      "source": [
        "!pip install openbiolink"
      ],
      "execution_count": null,
      "outputs": [
        {
          "output_type": "stream",
          "text": [
            "Collecting openbiolink\n",
            "\u001b[?25l  Downloading https://files.pythonhosted.org/packages/36/7a/9cdbcb0f679a2e06be3daee5c4e383bce447f8b54bf64e6d556e1a4ebb35/openbiolink-0.1.3-py3-none-any.whl (237kB)\n",
            "\r\u001b[K     |█▍                              | 10kB 20.6MB/s eta 0:00:01\r\u001b[K     |██▊                             | 20kB 27.4MB/s eta 0:00:01\r\u001b[K     |████▏                           | 30kB 22.4MB/s eta 0:00:01\r\u001b[K     |█████▌                          | 40kB 25.9MB/s eta 0:00:01\r\u001b[K     |██████▉                         | 51kB 26.5MB/s eta 0:00:01\r\u001b[K     |████████▎                       | 61kB 28.9MB/s eta 0:00:01\r\u001b[K     |█████████▋                      | 71kB 23.1MB/s eta 0:00:01\r\u001b[K     |███████████                     | 81kB 24.3MB/s eta 0:00:01\r\u001b[K     |████████████▍                   | 92kB 23.0MB/s eta 0:00:01\r\u001b[K     |█████████████▊                  | 102kB 22.7MB/s eta 0:00:01\r\u001b[K     |███████████████▏                | 112kB 22.7MB/s eta 0:00:01\r\u001b[K     |████████████████▌               | 122kB 22.7MB/s eta 0:00:01\r\u001b[K     |██████████████████              | 133kB 22.7MB/s eta 0:00:01\r\u001b[K     |███████████████████▎            | 143kB 22.7MB/s eta 0:00:01\r\u001b[K     |████████████████████▋           | 153kB 22.7MB/s eta 0:00:01\r\u001b[K     |██████████████████████          | 163kB 22.7MB/s eta 0:00:01\r\u001b[K     |███████████████████████▍        | 174kB 22.7MB/s eta 0:00:01\r\u001b[K     |████████████████████████▉       | 184kB 22.7MB/s eta 0:00:01\r\u001b[K     |██████████████████████████▏     | 194kB 22.7MB/s eta 0:00:01\r\u001b[K     |███████████████████████████▌    | 204kB 22.7MB/s eta 0:00:01\r\u001b[K     |█████████████████████████████   | 215kB 22.7MB/s eta 0:00:01\r\u001b[K     |██████████████████████████████▎ | 225kB 22.7MB/s eta 0:00:01\r\u001b[K     |███████████████████████████████▊| 235kB 22.7MB/s eta 0:00:01\r\u001b[K     |████████████████████████████████| 245kB 22.7MB/s \n",
            "\u001b[?25hRequirement already satisfied: click in /usr/local/lib/python3.7/dist-packages (from openbiolink) (7.1.2)\n",
            "Requirement already satisfied: sortedcontainers in /usr/local/lib/python3.7/dist-packages (from openbiolink) (2.4.0)\n",
            "Requirement already satisfied: numpy in /usr/local/lib/python3.7/dist-packages (from openbiolink) (1.19.5)\n",
            "Requirement already satisfied: pandas>=0.23.4 in /usr/local/lib/python3.7/dist-packages (from openbiolink) (1.1.5)\n",
            "Requirement already satisfied: tqdm>=4.29.1 in /usr/local/lib/python3.7/dist-packages (from openbiolink) (4.41.1)\n",
            "Collecting pykeen>0.0.26\n",
            "\u001b[?25l  Downloading https://files.pythonhosted.org/packages/73/3e/b1f693bd8600dc13ab4f6ee1c1f6cca728bfca2099fff42002878cb12b2e/pykeen-1.5.0-py3-none-any.whl (465kB)\n",
            "\u001b[K     |████████████████████████████████| 471kB 49.5MB/s \n",
            "\u001b[?25hRequirement already satisfied: scikit-learn>=0.19.1 in /usr/local/lib/python3.7/dist-packages (from openbiolink) (0.22.2.post1)\n",
            "Collecting pytest>=5.0.1\n",
            "\u001b[?25l  Downloading https://files.pythonhosted.org/packages/a1/59/6821e900592fbe261f19d67e4def0cb27e52ef8ed16d9922c144961cc1ee/pytest-6.2.4-py3-none-any.whl (280kB)\n",
            "\u001b[K     |████████████████████████████████| 286kB 50.1MB/s \n",
            "\u001b[?25hRequirement already satisfied: pytz>=2017.2 in /usr/local/lib/python3.7/dist-packages (from pandas>=0.23.4->openbiolink) (2018.9)\n",
            "Requirement already satisfied: python-dateutil>=2.7.3 in /usr/local/lib/python3.7/dist-packages (from pandas>=0.23.4->openbiolink) (2.8.1)\n",
            "Collecting scipy>=1.5.0\n",
            "\u001b[?25l  Downloading https://files.pythonhosted.org/packages/b2/85/b00f13b52d079b5625e1a12330fc6453c947a482ff667a907c7bc60ed220/scipy-1.7.0-cp37-cp37m-manylinux_2_5_x86_64.manylinux1_x86_64.whl (28.5MB)\n",
            "\u001b[K     |████████████████████████████████| 28.5MB 94kB/s \n",
            "\u001b[?25hCollecting click-default-group\n",
            "  Downloading https://files.pythonhosted.org/packages/22/3a/e9feb3435bd4b002d183fcb9ee08fb369a7e570831ab1407bc73f079948f/click-default-group-1.2.2.tar.gz\n",
            "Collecting dataclasses-json\n",
            "  Downloading https://files.pythonhosted.org/packages/c3/89/390710a3ad24833f2ad11295caddd37f1bc4e60a278de1c9059727a92482/dataclasses_json-0.5.4-py3-none-any.whl\n",
            "Collecting pystow>=0.1.5\n",
            "  Downloading https://files.pythonhosted.org/packages/a5/f9/55ebb3a5be7d626ad59c2cd8e6897ac30a13a7910959ada1dec025c8b602/pystow-0.1.7-py3-none-any.whl\n",
            "Requirement already satisfied: tabulate in /usr/local/lib/python3.7/dist-packages (from pykeen>0.0.26->openbiolink) (0.8.9)\n",
            "Requirement already satisfied: requests in /usr/local/lib/python3.7/dist-packages (from pykeen>0.0.26->openbiolink) (2.23.0)\n",
            "Collecting more-click\n",
            "  Downloading https://files.pythonhosted.org/packages/83/f7/abb43396baf1ea993598c6a63215e523daeef8426e9f8e6ee5ef81b83d56/more_click-0.0.4-py3-none-any.whl\n",
            "Collecting class-resolver>=0.0.12\n",
            "  Downloading https://files.pythonhosted.org/packages/26/98/5463422fa6326e76a1ce47783d672e45918c7d4ce327ff9b56e126fee26f/class_resolver-0.0.12-py3-none-any.whl\n",
            "Requirement already satisfied: torch; platform_system != \"Windows\" in /usr/local/lib/python3.7/dist-packages (from pykeen>0.0.26->openbiolink) (1.9.0+cu102)\n",
            "Collecting optuna>=2.0.0\n",
            "\u001b[?25l  Downloading https://files.pythonhosted.org/packages/1a/18/b49ca91cf592747e19f2d333c2a86cd7c81895b922a5a09adf6335471576/optuna-2.8.0-py3-none-any.whl (301kB)\n",
            "\u001b[K     |████████████████████████████████| 307kB 53.9MB/s \n",
            "\u001b[?25hCollecting docdata\n",
            "  Downloading https://files.pythonhosted.org/packages/21/6e/a2d582a8fdc44053b3e4819304c1a5d364c4822027cca553d7b7daf55f92/docdata-0.0.3-py3-none-any.whl\n",
            "Requirement already satisfied: sklearn in /usr/local/lib/python3.7/dist-packages (from pykeen>0.0.26->openbiolink) (0.0)\n",
            "Requirement already satisfied: joblib>=0.11 in /usr/local/lib/python3.7/dist-packages (from scikit-learn>=0.19.1->openbiolink) (1.0.1)\n",
            "Collecting pluggy<1.0.0a1,>=0.12\n",
            "  Downloading https://files.pythonhosted.org/packages/a0/28/85c7aa31b80d150b772fbe4a229487bc6644da9ccb7e427dd8cc60cb8a62/pluggy-0.13.1-py2.py3-none-any.whl\n",
            "Requirement already satisfied: py>=1.8.2 in /usr/local/lib/python3.7/dist-packages (from pytest>=5.0.1->openbiolink) (1.10.0)\n",
            "Requirement already satisfied: attrs>=19.2.0 in /usr/local/lib/python3.7/dist-packages (from pytest>=5.0.1->openbiolink) (21.2.0)\n",
            "Requirement already satisfied: iniconfig in /usr/local/lib/python3.7/dist-packages (from pytest>=5.0.1->openbiolink) (1.1.1)\n",
            "Requirement already satisfied: packaging in /usr/local/lib/python3.7/dist-packages (from pytest>=5.0.1->openbiolink) (20.9)\n",
            "Requirement already satisfied: importlib-metadata>=0.12; python_version < \"3.8\" in /usr/local/lib/python3.7/dist-packages (from pytest>=5.0.1->openbiolink) (4.5.0)\n",
            "Requirement already satisfied: toml in /usr/local/lib/python3.7/dist-packages (from pytest>=5.0.1->openbiolink) (0.10.2)\n",
            "Requirement already satisfied: six>=1.5 in /usr/local/lib/python3.7/dist-packages (from python-dateutil>=2.7.3->pandas>=0.23.4->openbiolink) (1.15.0)\n",
            "Collecting stringcase<2.0.0,==1.2.0\n",
            "  Downloading https://files.pythonhosted.org/packages/f3/1f/1241aa3d66e8dc1612427b17885f5fcd9c9ee3079fc0d28e9a3aeeb36fa3/stringcase-1.2.0.tar.gz\n",
            "Collecting typing-inspect>=0.4.0\n",
            "  Downloading https://files.pythonhosted.org/packages/ad/fa/77565f652ce57ed56d3a63d537c885a18e4451cf2d56d944991aeb3c82bd/typing_inspect-0.7.1-py3-none-any.whl\n",
            "Collecting marshmallow-enum<2.0.0,>=1.5.1\n",
            "  Downloading https://files.pythonhosted.org/packages/c6/59/ef3a3dc499be447098d4a89399beb869f813fee1b5a57d5d79dee2c1bf51/marshmallow_enum-1.5.1-py2.py3-none-any.whl\n",
            "Collecting marshmallow<4.0.0,>=3.3.0\n",
            "\u001b[?25l  Downloading https://files.pythonhosted.org/packages/c2/65/7cd7a1da0f52de85d3ad5b440bcc33b052fb53876b20cce8cad629a58bc6/marshmallow-3.12.2-py2.py3-none-any.whl (47kB)\n",
            "\u001b[K     |████████████████████████████████| 51kB 8.2MB/s \n",
            "\u001b[?25hRequirement already satisfied: urllib3!=1.25.0,!=1.25.1,<1.26,>=1.21.1 in /usr/local/lib/python3.7/dist-packages (from requests->pykeen>0.0.26->openbiolink) (1.24.3)\n",
            "Requirement already satisfied: certifi>=2017.4.17 in /usr/local/lib/python3.7/dist-packages (from requests->pykeen>0.0.26->openbiolink) (2021.5.30)\n",
            "Requirement already satisfied: idna<3,>=2.5 in /usr/local/lib/python3.7/dist-packages (from requests->pykeen>0.0.26->openbiolink) (2.10)\n",
            "Requirement already satisfied: chardet<4,>=3.0.2 in /usr/local/lib/python3.7/dist-packages (from requests->pykeen>0.0.26->openbiolink) (3.0.4)\n",
            "Requirement already satisfied: typing-extensions in /usr/local/lib/python3.7/dist-packages (from torch; platform_system != \"Windows\"->pykeen>0.0.26->openbiolink) (3.7.4.3)\n",
            "Collecting alembic\n",
            "\u001b[?25l  Downloading https://files.pythonhosted.org/packages/d5/80/ef186e599a57d0e4cb78fc76e0bfc2e6953fa9716b2a5cf2de0117ed8eb5/alembic-1.6.5-py2.py3-none-any.whl (164kB)\n",
            "\u001b[K     |████████████████████████████████| 174kB 56.8MB/s \n",
            "\u001b[?25hCollecting cliff\n",
            "\u001b[?25l  Downloading https://files.pythonhosted.org/packages/87/11/aea1cacbd4cf8262809c4d6f95dcb3f2802594de1f51c5bd454d69bf15c5/cliff-3.8.0-py3-none-any.whl (80kB)\n",
            "\u001b[K     |████████████████████████████████| 81kB 11.5MB/s \n",
            "\u001b[?25hCollecting colorlog\n",
            "  Downloading https://files.pythonhosted.org/packages/32/e6/e9ddc6fa1104fda718338b341e4b3dc31cd8039ab29e52fc73b508515361/colorlog-5.0.1-py2.py3-none-any.whl\n",
            "Requirement already satisfied: sqlalchemy>=1.1.0 in /usr/local/lib/python3.7/dist-packages (from optuna>=2.0.0->pykeen>0.0.26->openbiolink) (1.4.18)\n",
            "Collecting cmaes>=0.8.2\n",
            "  Downloading https://files.pythonhosted.org/packages/01/1f/43b01223a0366171f474320c6e966c39a11587287f098a5f09809b45e05f/cmaes-0.8.2-py3-none-any.whl\n",
            "Requirement already satisfied: pyyaml in /usr/local/lib/python3.7/dist-packages (from docdata->pykeen>0.0.26->openbiolink) (3.13)\n",
            "Requirement already satisfied: pyparsing>=2.0.2 in /usr/local/lib/python3.7/dist-packages (from packaging->pytest>=5.0.1->openbiolink) (2.4.7)\n",
            "Requirement already satisfied: zipp>=0.5 in /usr/local/lib/python3.7/dist-packages (from importlib-metadata>=0.12; python_version < \"3.8\"->pytest>=5.0.1->openbiolink) (3.4.1)\n",
            "Collecting mypy-extensions>=0.3.0\n",
            "  Downloading https://files.pythonhosted.org/packages/5c/eb/975c7c080f3223a5cdaff09612f3a5221e4ba534f7039db34c35d95fa6a5/mypy_extensions-0.4.3-py2.py3-none-any.whl\n",
            "Collecting Mako\n",
            "\u001b[?25l  Downloading https://files.pythonhosted.org/packages/f3/54/dbc07fbb20865d3b78fdb7cf7fa713e2cba4f87f71100074ef2dc9f9d1f7/Mako-1.1.4-py2.py3-none-any.whl (75kB)\n",
            "\u001b[K     |████████████████████████████████| 81kB 12.3MB/s \n",
            "\u001b[?25hCollecting python-editor>=0.3\n",
            "  Downloading https://files.pythonhosted.org/packages/c6/d3/201fc3abe391bbae6606e6f1d598c15d367033332bd54352b12f35513717/python_editor-1.0.4-py3-none-any.whl\n",
            "Collecting cmd2>=1.0.0\n",
            "\u001b[?25l  Downloading https://files.pythonhosted.org/packages/44/ca/d407811641ec1d8bd8a38ee3165d73aa44776d7700436bd4d4a6606f2736/cmd2-2.1.2-py3-none-any.whl (141kB)\n",
            "\u001b[K     |████████████████████████████████| 143kB 53.0MB/s \n",
            "\u001b[?25hCollecting pbr!=2.1.0,>=2.0.0\n",
            "\u001b[?25l  Downloading https://files.pythonhosted.org/packages/18/e0/1d4702dd81121d04a477c272d47ee5b6bc970d1a0990b11befa275c55cf2/pbr-5.6.0-py2.py3-none-any.whl (111kB)\n",
            "\u001b[K     |████████████████████████████████| 112kB 46.8MB/s \n",
            "\u001b[?25hCollecting stevedore>=2.0.1\n",
            "\u001b[?25l  Downloading https://files.pythonhosted.org/packages/d4/49/b602307aeac3df3384ff1fcd05da9c0376c622a6c48bb5325f28ab165b57/stevedore-3.3.0-py3-none-any.whl (49kB)\n",
            "\u001b[K     |████████████████████████████████| 51kB 8.0MB/s \n",
            "\u001b[?25hRequirement already satisfied: PrettyTable>=0.7.2 in /usr/local/lib/python3.7/dist-packages (from cliff->optuna>=2.0.0->pykeen>0.0.26->openbiolink) (2.1.0)\n",
            "Requirement already satisfied: greenlet!=0.4.17; python_version >= \"3\" in /usr/local/lib/python3.7/dist-packages (from sqlalchemy>=1.1.0->optuna>=2.0.0->pykeen>0.0.26->openbiolink) (1.1.0)\n",
            "Requirement already satisfied: MarkupSafe>=0.9.2 in /usr/local/lib/python3.7/dist-packages (from Mako->alembic->optuna>=2.0.0->pykeen>0.0.26->openbiolink) (2.0.1)\n",
            "Collecting pyperclip>=1.6\n",
            "  Downloading https://files.pythonhosted.org/packages/a7/2c/4c64579f847bd5d539803c8b909e54ba087a79d01bb3aba433a95879a6c5/pyperclip-1.8.2.tar.gz\n",
            "Requirement already satisfied: wcwidth>=0.1.7 in /usr/local/lib/python3.7/dist-packages (from cmd2>=1.0.0->cliff->optuna>=2.0.0->pykeen>0.0.26->openbiolink) (0.2.5)\n",
            "Collecting colorama>=0.3.7\n",
            "  Downloading https://files.pythonhosted.org/packages/44/98/5b86278fbbf250d239ae0ecb724f8572af1c91f4a11edf4d36a206189440/colorama-0.4.4-py2.py3-none-any.whl\n",
            "Building wheels for collected packages: click-default-group, stringcase, pyperclip\n",
            "  Building wheel for click-default-group (setup.py) ... \u001b[?25l\u001b[?25hdone\n",
            "  Created wheel for click-default-group: filename=click_default_group-1.2.2-cp37-none-any.whl size=3386 sha256=9c953480c40a37b1e549f475824ce98599f7fdd87367923e54151a2d995f874e\n",
            "  Stored in directory: /root/.cache/pip/wheels/ca/ed/79/2200269c285b0d21ab4591c6388a14691a4fc77d76bec40fe2\n",
            "  Building wheel for stringcase (setup.py) ... \u001b[?25l\u001b[?25hdone\n",
            "  Created wheel for stringcase: filename=stringcase-1.2.0-cp37-none-any.whl size=3588 sha256=cf30fa966c4a0cba2e6e4126df87740ebb3d9b8e6414045dcbb4601d09d12f58\n",
            "  Stored in directory: /root/.cache/pip/wheels/a0/16/a0/16e2c81dbd47503b5a35583dfabde5a93b4cf98dbf0033dad5\n",
            "  Building wheel for pyperclip (setup.py) ... \u001b[?25l\u001b[?25hdone\n",
            "  Created wheel for pyperclip: filename=pyperclip-1.8.2-cp37-none-any.whl size=11136 sha256=756490d6c2a1f5c5150315ba700ca51aa10c20c778b9676eb1ad039de9f1686a\n",
            "  Stored in directory: /root/.cache/pip/wheels/25/af/b8/3407109267803f4015e1ee2ff23be0c8c19ce4008665931ee1\n",
            "Successfully built click-default-group stringcase pyperclip\n",
            "\u001b[31mERROR: datascience 0.10.6 has requirement folium==0.2.1, but you'll have folium 0.8.3 which is incompatible.\u001b[0m\n",
            "\u001b[31mERROR: albumentations 0.1.12 has requirement imgaug<0.2.7,>=0.2.5, but you'll have imgaug 0.2.9 which is incompatible.\u001b[0m\n",
            "Installing collected packages: scipy, click-default-group, stringcase, mypy-extensions, typing-inspect, marshmallow, marshmallow-enum, dataclasses-json, pystow, more-click, class-resolver, Mako, python-editor, alembic, pyperclip, colorama, cmd2, pbr, stevedore, cliff, colorlog, cmaes, optuna, docdata, pykeen, pluggy, pytest, openbiolink\n",
            "  Found existing installation: scipy 1.4.1\n",
            "    Uninstalling scipy-1.4.1:\n",
            "      Successfully uninstalled scipy-1.4.1\n",
            "  Found existing installation: pluggy 0.7.1\n",
            "    Uninstalling pluggy-0.7.1:\n",
            "      Successfully uninstalled pluggy-0.7.1\n",
            "  Found existing installation: pytest 3.6.4\n",
            "    Uninstalling pytest-3.6.4:\n",
            "      Successfully uninstalled pytest-3.6.4\n",
            "Successfully installed Mako-1.1.4 alembic-1.6.5 class-resolver-0.0.12 click-default-group-1.2.2 cliff-3.8.0 cmaes-0.8.2 cmd2-2.1.2 colorama-0.4.4 colorlog-5.0.1 dataclasses-json-0.5.4 docdata-0.0.3 marshmallow-3.12.2 marshmallow-enum-1.5.1 more-click-0.0.4 mypy-extensions-0.4.3 openbiolink-0.1.3 optuna-2.8.0 pbr-5.6.0 pluggy-0.13.1 pykeen-1.5.0 pyperclip-1.8.2 pystow-0.1.7 pytest-6.2.4 python-editor-1.0.4 scipy-1.7.0 stevedore-3.3.0 stringcase-1.2.0 typing-inspect-0.7.1\n"
          ],
          "name": "stdout"
        }
      ]
    },
    {
      "cell_type": "code",
      "metadata": {
        "id": "NIh4vXn_3xTH"
      },
      "source": [
        "%%capture \n",
        "!pip install ampligraph;"
      ],
      "execution_count": null,
      "outputs": []
    },
    {
      "cell_type": "code",
      "metadata": {
        "colab": {
          "base_uri": "https://localhost:8080/",
          "height": 52
        },
        "id": "mQ_mzM1K3x7x",
        "outputId": "2b291ea5-8906-4125-833e-29ae70529dc5"
      },
      "source": [
        "%tensorflow_version 1.x \n",
        "import numpy as np\n",
        "import pandas as pd\n",
        "import ampligraph\n",
        "\n",
        "ampligraph.__version__"
      ],
      "execution_count": null,
      "outputs": [
        {
          "output_type": "stream",
          "text": [
            "TensorFlow 1.x selected.\n"
          ],
          "name": "stdout"
        },
        {
          "output_type": "execute_result",
          "data": {
            "application/vnd.google.colaboratory.intrinsic+json": {
              "type": "string"
            },
            "text/plain": [
              "'1.4.0'"
            ]
          },
          "metadata": {
            "tags": []
          },
          "execution_count": 4
        }
      ]
    },
    {
      "cell_type": "markdown",
      "metadata": {
        "id": "Jw1VP4RUKh5G"
      },
      "source": [
        "# Loading OpenBioLink dataset"
      ]
    },
    {
      "cell_type": "code",
      "metadata": {
        "colab": {
          "base_uri": "https://localhost:8080/"
        },
        "id": "KPoqKOBAWZjK",
        "outputId": "f1c4c892-b625-466a-e3e3-48c35d48993e"
      },
      "source": [
        "from openbiolink.evaluation.dataLoader import DataLoader\n",
        "\n",
        "# Name of the Dataset, possible values HQ_DIR, HQ_UNDIR, ALL_DIR, ALL_UNDIR. Default: HQ_DIR\n",
        "dl = DataLoader(\"HQ_DIR\")"
      ],
      "execution_count": null,
      "outputs": [
        {
          "output_type": "stream",
          "text": [
            "\rHQ_DIR.zip: 0.00B [00:00, ?B/s]"
          ],
          "name": "stderr"
        },
        {
          "output_type": "stream",
          "text": [
            "Dataset not found in, downloading to /content/datasets/HQ_DIR ...\n"
          ],
          "name": "stdout"
        },
        {
          "output_type": "stream",
          "text": [
            "HQ_DIR.zip: 104MB [00:14, 7.70MB/s]                           \n"
          ],
          "name": "stderr"
        },
        {
          "output_type": "stream",
          "text": [
            "Loading dataset ...\n",
            "Done!\n"
          ],
          "name": "stdout"
        }
      ]
    },
    {
      "cell_type": "code",
      "metadata": {
        "id": "Jh1cvwopwFob"
      },
      "source": [
        "cmp = []\n",
        "\n",
        "for el in dl.mappings['nodes']['label2id']:\n",
        "  if 'compound' in el.lower():\n",
        "    cmp.append(el)"
      ],
      "execution_count": null,
      "outputs": []
    },
    {
      "cell_type": "code",
      "metadata": {
        "colab": {
          "base_uri": "https://localhost:8080/"
        },
        "id": "qemrjNDjyFGv",
        "outputId": "9ac1a8ab-3027-4db1-b2d3-11c677ffa1a9"
      },
      "source": [
        "len(cmp)"
      ],
      "execution_count": null,
      "outputs": [
        {
          "output_type": "execute_result",
          "data": {
            "text/plain": [
              "77709"
            ]
          },
          "metadata": {
            "tags": []
          },
          "execution_count": 7
        }
      ]
    },
    {
      "cell_type": "code",
      "metadata": {
        "colab": {
          "base_uri": "https://localhost:8080/"
        },
        "id": "luZuhM1siIPU",
        "outputId": "c494623d-40ea-458f-d72b-fad75fb8d302"
      },
      "source": [
        "rels = set(dl.data['train_positive'][1])\n",
        "len(rels)"
      ],
      "execution_count": null,
      "outputs": [
        {
          "output_type": "execute_result",
          "data": {
            "text/plain": [
              "28"
            ]
          },
          "metadata": {
            "tags": []
          },
          "execution_count": 8
        }
      ]
    },
    {
      "cell_type": "code",
      "metadata": {
        "colab": {
          "base_uri": "https://localhost:8080/"
        },
        "id": "qQhyqkw9j1_Z",
        "outputId": "efc42531-9b82-4bce-c187-190c7d463a42"
      },
      "source": [
        "len(dl.mappings['nodes']['label2id'])"
      ],
      "execution_count": null,
      "outputs": [
        {
          "output_type": "execute_result",
          "data": {
            "text/plain": [
              "184732"
            ]
          },
          "metadata": {
            "tags": []
          },
          "execution_count": 9
        }
      ]
    },
    {
      "cell_type": "code",
      "metadata": {
        "colab": {
          "base_uri": "https://localhost:8080/"
        },
        "id": "qlRoVzwTkmud",
        "outputId": "7640f663-45ac-47e7-8d19-d8c36b6f9ca8"
      },
      "source": [
        "dl.mappings['relations']['label2id']"
      ],
      "execution_count": null,
      "outputs": [
        {
          "output_type": "execute_result",
          "data": {
            "text/plain": [
              "{'DIS_DRUG': 25,\n",
              " 'DIS_PHENOTYPE': 4,\n",
              " 'DRUG_ACTIVATION_GENE': 9,\n",
              " 'DRUG_BINDACT_GENE': 14,\n",
              " 'DRUG_BINDING_GENE': 22,\n",
              " 'DRUG_BINDINH_GENE': 5,\n",
              " 'DRUG_CATALYSIS_GENE': 18,\n",
              " 'DRUG_INHIBITION_GENE': 21,\n",
              " 'DRUG_PHENOTYPE': 27,\n",
              " 'DRUG_REACTION_GENE': 20,\n",
              " 'GENE_ACTIVATION_GENE': 23,\n",
              " 'GENE_BINDING_GENE': 12,\n",
              " 'GENE_CATALYSIS_GENE': 24,\n",
              " 'GENE_DIS': 10,\n",
              " 'GENE_DRUG': 2,\n",
              " 'GENE_EXPRESSED_ANATOMY': 15,\n",
              " 'GENE_EXPRESSION_GENE': 19,\n",
              " 'GENE_GENE': 0,\n",
              " 'GENE_GO': 8,\n",
              " 'GENE_INHIBITION_GENE': 16,\n",
              " 'GENE_OVEREXPRESSED_ANATOMY': 13,\n",
              " 'GENE_PATHWAY': 1,\n",
              " 'GENE_PHENOTYPE': 7,\n",
              " 'GENE_PTMOD_GENE': 26,\n",
              " 'GENE_REACTION_GENE': 6,\n",
              " 'GENE_UNDEREXPRESSED_ANATOMY': 3,\n",
              " 'IS_A': 17,\n",
              " 'PART_OF': 11}"
            ]
          },
          "metadata": {
            "tags": []
          },
          "execution_count": 10
        }
      ]
    },
    {
      "cell_type": "code",
      "metadata": {
        "id": "q5FrRXz670Kg"
      },
      "source": [
        "train_positive = dl.data['train_positive'].to_numpy()\n",
        "train_negative = dl.data['train_negative'].to_numpy()\n",
        "test_positive = dl.data['test_positive'].to_numpy()\n",
        "test_negative = dl.data['test_negative'].to_numpy()\n",
        "validation_positive = dl.data['valid_positive'].to_numpy()\n",
        "vakidation_negative = dl.data['valid_negative'].to_numpy()"
      ],
      "execution_count": null,
      "outputs": []
    },
    {
      "cell_type": "markdown",
      "metadata": {
        "id": "Sv3nkavIKpvU"
      },
      "source": [
        "# Model creation"
      ]
    },
    {
      "cell_type": "code",
      "metadata": {
        "id": "WVhOHSc088jd"
      },
      "source": [
        "from ampligraph.latent_features import ComplEx\n",
        "\n",
        "model = ComplEx(batches_count=250, \n",
        "                seed=0, \n",
        "                epochs=50, \n",
        "                k=200, \n",
        "                eta=30,\n",
        "                embedding_model_params = {'negative_corruption_entities': train_negative},\n",
        "                optimizer='adam', \n",
        "                optimizer_params={'lr':0.001},\n",
        "                loss='multiclass_nll', \n",
        "                regularizer='LP', \n",
        "                regularizer_params={'p':3, 'lambda':0.001}, \n",
        "                verbose=True)"
      ],
      "execution_count": null,
      "outputs": []
    },
    {
      "cell_type": "markdown",
      "metadata": {
        "id": "3a0ac9WBK6zJ"
      },
      "source": [
        "# Model training"
      ]
    },
    {
      "cell_type": "code",
      "metadata": {
        "colab": {
          "base_uri": "https://localhost:8080/"
        },
        "id": "aRFH5hlZ9L-l",
        "outputId": "97ebf681-e94f-4662-b1ae-38fc5de0e8af"
      },
      "source": [
        "import tensorflow as tf\n",
        "tf.logging.set_verbosity(tf.logging.ERROR)\n",
        "model.fit(train_positive, early_stopping = False)"
      ],
      "execution_count": null,
      "outputs": [
        {
          "output_type": "stream",
          "text": [
            "/usr/local/lib/python3.7/dist-packages/ampligraph/latent_features/models/EmbeddingModel.py:652: FutureWarning: elementwise comparison failed; returning scalar instead, but in the future will perform elementwise comparison\n",
            "  if negative_corruption_entities == 'all':\n",
            "/usr/local/lib/python3.7/dist-packages/ampligraph/latent_features/models/EmbeddingModel.py:663: FutureWarning: elementwise comparison failed; returning scalar instead, but in the future will perform elementwise comparison\n",
            "  elif negative_corruption_entities == 'batch':\n",
            "Average ComplEx Loss:   0.840990: 100%|██████████| 50/50 [1:12:33<00:00, 87.07s/epoch]\n"
          ],
          "name": "stderr"
        }
      ]
    },
    {
      "cell_type": "code",
      "metadata": {
        "id": "4QQGjj7H-atr"
      },
      "source": [
        "from ampligraph.latent_features import save_model, restore_model\n",
        "\n",
        "save_model(model, './complex_model_OpenBioLink.pkl')"
      ],
      "execution_count": null,
      "outputs": []
    },
    {
      "cell_type": "markdown",
      "metadata": {
        "id": "O0Vvb_0DK_qc"
      },
      "source": [
        "# Model evaluation"
      ]
    },
    {
      "cell_type": "code",
      "metadata": {
        "colab": {
          "base_uri": "https://localhost:8080/"
        },
        "id": "r6QBAw5qgTQY",
        "outputId": "dc01316b-d316-4bdd-cc3f-211d16b979ad"
      },
      "source": [
        "X_positive = np.concatenate((train_positive, test_positive, validation_positive), axis=0)\n",
        "len(X_positive)"
      ],
      "execution_count": null,
      "outputs": [
        {
          "output_type": "execute_result",
          "data": {
            "text/plain": [
              "4563405"
            ]
          },
          "metadata": {
            "tags": []
          },
          "execution_count": 15
        }
      ]
    },
    {
      "cell_type": "code",
      "metadata": {
        "id": "0Ji1iwkuCk3D",
        "colab": {
          "base_uri": "https://localhost:8080/"
        },
        "outputId": "c8c6cb6c-e7db-47a7-f70c-515c7cf9b1f8"
      },
      "source": [
        "from ampligraph.evaluation import evaluate_performance\n",
        "\n",
        "ranks = evaluate_performance(test_positive, \n",
        "                             model=model, \n",
        "                             filter_triples=X_positive,   # Corruption strategy filter defined above \n",
        "                             verbose=True)"
      ],
      "execution_count": null,
      "outputs": [
        {
          "output_type": "stream",
          "text": [
            "WARNING - You are attempting to use 180992 distinct entities to generate synthetic negatives in the evaluation\n",
            "    protocol. This may be unnecessary and will lead to a 'harder' task. Besides, it will lead to a much slower\n",
            "    evaluation procedure. We recommended to set the 'corruption_entities' argument to a reasonably sized set\n",
            "    of entities. The size of corruption_entities depends on your domain-specific task.\n"
          ],
          "name": "stdout"
        },
        {
          "output_type": "stream",
          "text": [
            "/usr/local/lib/python3.7/dist-packages/ampligraph/evaluation/protocol.py:952: UserWarning: You are attempting to use 180992 distinct entities to generate synthetic negatives in the evaluation\n",
            "    protocol. This may be unnecessary and will lead to a 'harder' task. Besides, it will lead to a much slower\n",
            "    evaluation procedure. We recommended to set the 'corruption_entities' argument to a reasonably sized set\n",
            "    of entities. The size of corruption_entities depends on your domain-specific task.\n",
            "  warnings.warn(warn_msg % ent_for_corruption_size)\n",
            " 62%|██████▏   | 111593/180964 [2:37:36<1:38:09, 11.78it/s]"
          ],
          "name": "stderr"
        }
      ]
    },
    {
      "cell_type": "code",
      "metadata": {
        "id": "AnV3cSu-tmK8"
      },
      "source": [
        "from numpy import asarray\n",
        "from numpy import savetxt\n",
        "\n",
        "data = asarray(ranks)\n",
        "# save to csv file\n",
        "savetxt('ranks_complex.csv', data, delimiter=',')"
      ],
      "execution_count": null,
      "outputs": []
    },
    {
      "cell_type": "code",
      "metadata": {
        "id": "v5nFhhuRBVnZ"
      },
      "source": [
        "from ampligraph.evaluation import mr_score, mrr_score, hits_at_n_score\n",
        "\n",
        "mrr = mrr_score(ranks)\n",
        "print(\"MRR: %.2f\" % (mrr))\n",
        "\n",
        "hits_10 = hits_at_n_score(ranks, n=10)\n",
        "print(\"Hits@10: %.2f\" % (hits_10))\n",
        "hits_3 = hits_at_n_score(ranks, n=3)\n",
        "print(\"Hits@3: %.2f\" % (hits_3))\n",
        "hits_1 = hits_at_n_score(ranks, n=1)\n",
        "print(\"Hits@1: %.2f\" % (hits_1))"
      ],
      "execution_count": null,
      "outputs": []
    }
  ]
}